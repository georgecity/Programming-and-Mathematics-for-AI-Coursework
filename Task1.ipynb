{
 "metadata": {
  "language_info": {
   "codemirror_mode": {
    "name": "ipython",
    "version": 3
   },
   "file_extension": ".py",
   "mimetype": "text/x-python",
   "name": "python",
   "nbconvert_exporter": "python",
   "pygments_lexer": "ipython3",
   "version": "3.8.3-final"
  },
  "orig_nbformat": 2,
  "kernelspec": {
   "name": "python3",
   "display_name": "Python 3",
   "language": "python"
  }
 },
 "nbformat": 4,
 "nbformat_minor": 2,
 "cells": [
  {
   "source": [
    "# Task 1: Algorithm Implementation"
   ],
   "cell_type": "markdown",
   "metadata": {}
  },
  {
   "cell_type": "code",
   "execution_count": 1,
   "metadata": {},
   "outputs": [],
   "source": [
    "import random\n",
    "import numpy as np"
   ]
  },
  {
   "source": [
    "# Grid Creation"
   ],
   "cell_type": "markdown",
   "metadata": {}
  },
  {
   "cell_type": "code",
   "execution_count": 2,
   "metadata": {},
   "outputs": [
    {
     "output_type": "stream",
     "name": "stdout",
     "text": [
      "[[0 8 4 7 7 1 1 1 2 1]\n [0 6 6 7 0 1 3 8 6 5]\n [0 2 7 6 7 5 3 0 5 6]\n [5 5 4 7 2 0 3 2 7 8]\n [8 3 4 7 6 1 2 3 4 2]\n [5 4 1 6 8 6 3 7 8 8]\n [3 7 2 1 7 2 2 2 1 7]\n [5 6 7 4 3 3 7 1 4 6]\n [8 2 4 6 5 2 3 7 0 2]\n [4 8 1 5 3 3 2 5 3 7]]\n"
     ]
    }
   ],
   "source": [
    "row = int(input(\"Enter number of Rows \"))\n",
    "column = int(input(\"enter number of Columns \"))\n",
    "grid = np.random.randint(0,9, size=(column,row), dtype=int)\n",
    "grid[0][0] = 0\n",
    "print(grid)"
   ]
  },
  {
   "source": [
    "# Baseline Algorithm"
   ],
   "cell_type": "markdown",
   "metadata": {}
  },
  {
   "cell_type": "code",
   "execution_count": 3,
   "metadata": {},
   "outputs": [],
   "source": [
    "x= int(0)\n",
    "y= int(0)\n",
    "finalx = int(row-1)\n",
    "finaly= int(column-1)\n",
    "timeSpent= []"
   ]
  },
  {
   "cell_type": "code",
   "execution_count": 4,
   "metadata": {},
   "outputs": [
    {
     "output_type": "stream",
     "name": "stdout",
     "text": [
      "Path takes:\n [0, 0, 2, 5, 3, 4, 1, 2, 1, 4, 3, 3, 2, 3, 2, 6, 2, 7] \nTime Consumed is:\n 50\n"
     ]
    }
   ],
   "source": [
    "while x != finaly and y != finalx:\n",
    "    down = y+1\n",
    "    right = x +1\n",
    "    downPos = grid [down][x]\n",
    "    rightPos = grid[y][right] \n",
    "        \n",
    "    if rightPos <= downPos :\n",
    "        x += 1\n",
    "        timeSpent.append(rightPos)\n",
    "    elif downPos < rightPos:\n",
    "        y += 1\n",
    "        timeSpent.append(downPos)\n",
    "\n",
    "if x == finalx:\n",
    "    while y != finaly:\n",
    "        y += 1\n",
    "        timeSpent.append(grid[x][y])\n",
    "elif y == finaly:\n",
    "    while x != finalx:\n",
    "        x += 1\n",
    "        timeSpent.append(grid[x][y])\n",
    "\n",
    "print(\"Path takes:\\n\", timeSpent, \"\\nTime Consumed is:\\n\" ,sum(timeSpent) )"
   ]
  },
  {
   "source": [
    "# Dijkstra's Algortihm"
   ],
   "cell_type": "markdown",
   "metadata": {}
  },
  {
   "cell_type": "code",
   "execution_count": 5,
   "metadata": {},
   "outputs": [],
   "source": [
    "arrayLenght = len(grid.flatten())\n",
    "infinity = 999999\n",
    "SD = list(np.full(arrayLenght, infinity))\n",
    "predecessor = [0 for i in range(arrayLenght)]\n",
    "graph = list(grid.flatten())\n",
    "unvisited= list(grid.flatten())\n",
    "SD[0] = 0\n",
    "pos = 0"
   ]
  },
  {
   "cell_type": "code",
   "execution_count": 6,
   "metadata": {},
   "outputs": [
    {
     "output_type": "stream",
     "name": "stdout",
     "text": [
      "Top Indexes:  [1, 2, 3, 4, 5, 6, 7, 8]\nBottom Indexes:  [91, 92, 93, 94, 95, 96, 97, 98]\nLeft Indexes:  [10, 20, 30, 40, 50, 60, 70, 80]\nRight Indexes:  [19 29 39 49 59 69 79 89]\n"
     ]
    }
   ],
   "source": [
    "c1 = [0]\n",
    "c2 = [finalx]\n",
    "c3 = [arrayLenght - row]\n",
    "c4 = [arrayLenght - 1]\n",
    "top = [x for x in range(1, finalx)]\n",
    "bottom =[x for x in range((finalx * column)+1, arrayLenght-1)]\n",
    "left= [x  for x in range(1, finalx * column) if x % row == 0]\n",
    "right = np.arange(start=finalx + row, stop=arrayLenght - row, step=column)\n",
    "\n",
    "print(\"Top Indexes: \", top)\n",
    "print(\"Bottom Indexes: \", bottom)\n",
    "print(\"Left Indexes: \", left)\n",
    "print(\"Right Indexes: \", right)"
   ]
  },
  {
   "cell_type": "code",
   "execution_count": 7,
   "metadata": {},
   "outputs": [],
   "source": [
    "def update( pos, minNode):\n",
    "    try:\n",
    "        if graph[pos] + SD[minNode] < SD[pos]:\n",
    "            SD[pos] = graph[pos] + SD[minNode]\n",
    "            predecessor[pos] = graph[minNode]\n",
    "    except IndexError:\n",
    "        print(\"out of index\")"
   ]
  },
  {
   "cell_type": "code",
   "execution_count": 8,
   "metadata": {},
   "outputs": [
    {
     "output_type": "stream",
     "name": "stdout",
     "text": [
      "Time taken:  44\nPredecessor Grid: \n [[0 0 8 4 7 1 3 1 1 2]\n [0 0 6 6 7 0 1 3 2 1]\n [0 0 2 7 6 1 3 2 0 5]\n [0 2 5 4 7 2 0 3 2 7]\n [5 5 3 4 2 0 1 2 3 4]\n [8 3 4 1 6 1 2 3 4 2]\n [5 4 1 2 1 7 3 2 2 1]\n [3 7 2 1 4 3 2 2 1 4]\n [5 6 7 4 3 3 2 1 4 0]\n [8 2 4 6 5 2 3 2 0 2]]\nShort Distance Grid: \n  [[ 0  8 12 19 26 21 24 29 31 32]\n [ 0  6 12 19 19 20 23 31 37 37]\n [ 0  2  9 15 22 25 26 25 31 37]\n [ 5  7 11 18 20 20 23 25 32 40]\n [13 10 14 21 26 21 23 26 30 32]\n [18 14 15 21 29 27 26 33 38 40]\n [21 21 17 18 25 27 28 30 31 38]\n [26 27 24 22 25 28 35 31 35 41]\n [34 29 28 28 30 30 33 38 35 37]\n [38 37 29 33 33 33 35 40 38 44]]\n"
     ]
    }
   ],
   "source": [
    "while len(unvisited) != 0:   \n",
    "    if pos in c1:\n",
    "        update(pos +1, pos) #R\n",
    "        update(pos + row, pos)#D\n",
    "    elif pos in c2:\n",
    "         update(pos -1, pos)#L\n",
    "         update(pos + row, pos)#D\n",
    "    elif pos in c3:\n",
    "         update(pos - row, pos)#U\n",
    "         update(pos +1, pos) #R\n",
    "    elif pos in c4:\n",
    "         update(pos -row, pos)#U\n",
    "         update(pos -1, pos)#L\n",
    "    elif pos in top:\n",
    "         update(pos + row, pos)#D\n",
    "         update(pos +1, pos) #R\n",
    "         update(pos -1, pos)#L\n",
    "    elif pos in bottom:\n",
    "         update(pos -row, pos)#U\n",
    "         update(pos +1, pos) #R\n",
    "         update(pos -1, pos)#L\n",
    "    elif pos in left:\n",
    "         update(pos -row, pos)#U\n",
    "         update(pos + row, pos)#D\n",
    "         update(pos +1, pos) #R\n",
    "    elif pos in right:\n",
    "         update(pos -row, pos)#U\n",
    "         update(pos + row, pos)#D\n",
    "         update(pos -1, pos)#L\n",
    "    else:\n",
    "        update(pos +1, pos) #R\n",
    "        update(pos + row, pos)#D\n",
    "        update(pos -1, pos)#L\n",
    "        update(pos -row, pos)#U\n",
    "    \n",
    "    unvisited.pop(0)\n",
    "    pos = pos +1\n",
    "\n",
    "predecessor = np.array(predecessor)\n",
    "SD = np.array(SD)\n",
    "print(\"Time taken: \", SD[arrayLenght-1])\n",
    "print(\"Predecessor Grid: \\n\",predecessor.reshape((row,column)))\n",
    "print(\"Short Distance Grid: \\n \",SD.reshape((row,column)))"
   ]
  }
 ]
}